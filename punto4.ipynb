{
 "cells": [
  {
   "cell_type": "code",
   "execution_count": 1,
   "metadata": {},
   "outputs": [
    {
     "name": "stdout",
     "output_type": "stream",
     "text": [
      "Valor real = 0.0707372016677029\n",
      "Valor Aproximado = 0.07073693411690848\n",
      "Porcentaje de Error = 0.0003782320873803493\n",
      "Error < 10% = 3\n",
      "Error < 1% = 3\n",
      "Error < 0.1% = 4\n",
      "Error < 0.001% = 5\n"
     ]
    }
   ],
   "source": [
    "'''\n",
    "Función para hallar el valor de cos(x) con sumas de Maclaurin, y comparar los resultados con el valor real (math.cos(x)).\n",
    "'''\n",
    "import math\n",
    "def mac_cos(x:float, n:int) -> float:\n",
    "    real = math.cos(x) # se guarda el valor de cos(x) en la varaible real.\n",
    "    aprox = 0 # aprox se inicia en cero.\n",
    "    error_a = \"No suficiente para obtener un error de menos del 10%\" # Inicialemte las iteraciones no son suficientes para llegar a cierto % de aproximación.\n",
    "    error_b = \"No suficiente para obtener un error de menos del 1%\"\n",
    "    error_c = \"No suficiente para obtener un error de menos del 0.1%\"\n",
    "    error_d = \"No suficiente para obtener un error de menos del 0.001%\"\n",
    "    \n",
    "    for i in range(n): \n",
    "        \n",
    "        aprox += ((-1)**i) * (x**(2*i)) / (math.factorial(2*i)) # aprox se hace igual al valor calculado por la ecuación.\n",
    "        pct = 100/real*abs(real-aprox) # pct es el porcentaje al que equivale aprox, siendo la variable \"real\" el 100%\n",
    "        # se verifica en cada iteración qué porcentaje de aproximación se alcanzó y se asigna a error_a, _b, _c o _d, el número de la iteración.\n",
    "        if pct < 0.001 and type(error_d) == str: \n",
    "            error_d = i\n",
    "        if pct < 0.1 and type(error_c) == str:\n",
    "            error_c = i\n",
    "        if pct < 1 and type(error_b) == str:\n",
    "            error_b = i\n",
    "        if pct < 10 and type(error_a) == str:\n",
    "            error_a = i\n",
    "        if type(error_d) == int:\n",
    "            break\n",
    "            \n",
    "\n",
    "    res = f\"Valor real = {real}\\nValor Aproximado = {aprox}\\nPorcentaje de Error = {pct}\\nError < 10% = {error_a}\\nError < 1% = {error_b}\\nError < 0.1% = {error_c}\\nError < 0.001% = {error_d}\"\n",
    "    return res\n",
    "\n",
    "if __name__ == \"__main__\":\n",
    "    x = float(input(\"Enter a real number: \"))\n",
    "    n = int(input(\"Enter an integer: \"))\n",
    "    res = mac_cos(x, n)\n",
    "    print(res)"
   ]
  }
 ],
 "metadata": {
  "kernelspec": {
   "display_name": "Python 3",
   "language": "python",
   "name": "python3"
  },
  "language_info": {
   "codemirror_mode": {
    "name": "ipython",
    "version": 3
   },
   "file_extension": ".py",
   "mimetype": "text/x-python",
   "name": "python",
   "nbconvert_exporter": "python",
   "pygments_lexer": "ipython3",
   "version": "3.10.11"
  },
  "orig_nbformat": 4
 },
 "nbformat": 4,
 "nbformat_minor": 2
}
