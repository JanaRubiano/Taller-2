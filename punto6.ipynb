{
 "cells": [
  {
   "cell_type": "code",
   "execution_count": 10,
   "metadata": {},
   "outputs": [
    {
     "name": "stdout",
     "output_type": "stream",
     "text": [
      "False\n"
     ]
    }
   ],
   "source": [
    "'''\n",
    "Programa que determina si en una lista no existen elementos repetidos.\n",
    "[list] --> [bool]\n",
    ">>> elemento_repetido([\"Hola\", 1, 2, \"Hola\"])\n",
    ">>> False\n",
    ">>> elemento_repetido([\"Hola\", 1, 2, \"Hallo\"])\n",
    ">>> True\n",
    "'''\n",
    "\n",
    "def elemento_repetido(lista:list)-> bool:\n",
    "\n",
    "    for elmt in lista: # se itera por cada elemento de la lista.\n",
    "        rep = lista.count(elmt) # se gurada el número de veces que éste aparece en la lista.\n",
    "        if rep > 1: # si el elemento apareción más de una vez, se retorna False.\n",
    "            return False\n",
    "        \n",
    "    return True\n",
    "\n",
    "if __name__ == \"__main__\":\n",
    "    lista = []\n",
    "    n = int(input(\"Ingrese el número de elmentos que va a tener la lista: \"))\n",
    "    for x in range(n):\n",
    "        elmt = input(\"Ingrese un elemento: \")\n",
    "        lista.append(elmt)\n",
    "    res = elemento_repetido(lista)\n",
    "    print(res)"
   ]
  }
 ],
 "metadata": {
  "kernelspec": {
   "display_name": "Python 3",
   "language": "python",
   "name": "python3"
  },
  "language_info": {
   "codemirror_mode": {
    "name": "ipython",
    "version": 3
   },
   "file_extension": ".py",
   "mimetype": "text/x-python",
   "name": "python",
   "nbconvert_exporter": "python",
   "pygments_lexer": "ipython3",
   "version": "3.10.11"
  },
  "orig_nbformat": 4
 },
 "nbformat": 4,
 "nbformat_minor": 2
}
