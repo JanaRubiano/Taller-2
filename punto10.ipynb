{
 "cells": [
  {
   "cell_type": "code",
   "execution_count": 9,
   "metadata": {},
   "outputs": [
    {
     "name": "stdout",
     "output_type": "stream",
     "text": [
      "True\n"
     ]
    }
   ],
   "source": [
    "'''\n",
    "Desarrollar un algoritmo que determine si una matriz es mágica. Se dice que una matriz cuadrada es mágica si la suma\n",
    "de cada una de sus filas, de cada una de sus columnas y de sus diagonales es igual.\n",
    "[list[list]] --> bool\n",
    ">>> MagicMatrix([[1, 15,14, 4],[12, 6, 7, 9],[8, 10, 11, 5],[13, 3, 2, 16]])\n",
    ">>> True\n",
    "'''\n",
    "\n",
    "def magicMatrix(matrix:list) -> bool:\n",
    "    m_len = len(matrix)\n",
    "    suma_filas = [] # se suman las filas.\n",
    "    for i in range(m_len): \n",
    "        lst = matrix[i]\n",
    "        suma = 0 # se inicia suma en 0\n",
    "        for j in range(m_len):\n",
    "            suma += lst[j]\n",
    "        if len(suma_filas) == 0: # se agregan los valores de suma a suma_columnas si la lista está vacia, o el valor ya guardado es el mismo.\n",
    "            suma_filas.append(suma)\n",
    "        elif suma_filas[-1] == suma:\n",
    "            suma_filas.append(suma)\n",
    "        else:\n",
    "            return False\n",
    "        \n",
    "    suma_columnas = [] # se suman las columnas.\n",
    "    for i in range(m_len):\n",
    "        suma = 0 # se inicia suma en 0\n",
    "        for j in range(m_len):\n",
    "            suma += matrix[i][j]\n",
    "        if len(suma_columnas) == 0: # se agregan los valores de suma a suma_columnas si la lista está vacia, o el valor ya guardado es el mismo.\n",
    "            suma_columnas.append(suma)\n",
    "        elif suma_columnas[-1] == suma:\n",
    "            suma_columnas.append(suma)\n",
    "        else:\n",
    "            return False    \n",
    "\n",
    "    if suma_filas != suma_columnas: # se compara si las listas (que contienen los valores calculados para la suma de cada fila y columna), son iguales.\n",
    "        return False # si no son iguales la función retorna False.\n",
    "    \n",
    "    suma_diagonal1 = 0 # se halla la suma de la diagonal der-izq.\n",
    "    shifter = 0\n",
    "    for i in range(m_len):\n",
    "        suma_diagonal1 += matrix[i][shifter]\n",
    "        shifter += 1  \n",
    "\n",
    "    suma_diagonal2 = sum([row[len(matrix) - 1 - i] for i, row in enumerate(matrix)]) # se halla la suma de la diagonal izq-der (se implementaron técnicas novedosas ya que era practicamente lo mismo que para la otra diagonal).\n",
    "\n",
    "    for i in range(m_len): # se compara si las listas de las diagonales son iguales a la suma_columnas\n",
    "        if suma_columnas[i] != suma_diagonal1 and suma_columnas != suma_diagonal2:\n",
    "            return  False\n",
    "\n",
    "    return True\n",
    "    \n",
    "\n",
    "if __name__ == \"__main__\":\n",
    "    matrix = []\n",
    "    n = int(input(\"Ingrese la dimensión de la matriz (ésta será cuadrada): \"))\n",
    "    for x in range(n):\n",
    "        lista = []\n",
    "        for y in range(n):\n",
    "            elmt = int(input(f\"Ingrese un número para la fila {x+1}: \"))\n",
    "            lista.append(elmt)\n",
    "        matrix.append(lista)\n",
    "    res = magicMatrix(matrix)\n",
    "\n",
    "    print(res)\n",
    "\n",
    "\n",
    "\n"
   ]
  }
 ],
 "metadata": {
  "kernelspec": {
   "display_name": "Python 3",
   "language": "python",
   "name": "python3"
  },
  "language_info": {
   "codemirror_mode": {
    "name": "ipython",
    "version": 3
   },
   "file_extension": ".py",
   "mimetype": "text/x-python",
   "name": "python",
   "nbconvert_exporter": "python",
   "pygments_lexer": "ipython3",
   "version": "3.10.11"
  },
  "orig_nbformat": 4
 },
 "nbformat": 4,
 "nbformat_minor": 2
}
