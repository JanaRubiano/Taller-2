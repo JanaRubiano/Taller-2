{
 "cells": [
  {
   "cell_type": "code",
   "execution_count": 7,
   "metadata": {},
   "outputs": [
    {
     "name": "stdout",
     "output_type": "stream",
     "text": [
      "6\n",
      "6\n",
      "2\n",
      "6\n"
     ]
    }
   ],
   "source": [
    "'''\n",
    "Se ingresa un número flotante n y se separa su parte entera de su parte decimal,\n",
    "y debe entregar los digitos tanto de la parte entera como de la decimal.\n",
    "[float] --> [list(int)]\n",
    ">>> sep_dig2(6.626)\n",
    ">>> [6, 6, 2, 6]\n",
    "'''\n",
    "\n",
    "def sep_dig2(n:float) -> list:\n",
    "    digitos = [int(num) for num in str(n) if num != \".\"] # se convierte el número a un string y se agregan cada elemento del string a una lista, si éste no es el punto decimal.\n",
    "    return digitos\n",
    "\n",
    "if __name__ == \"__main__\":\n",
    "    n = float(input(\"Ingrese un número flotante (con punto decimal): \"))\n",
    "    lst = sep_dig2(n)\n",
    "    for num in lst:\n",
    "        print(num)"
   ]
  }
 ],
 "metadata": {
  "kernelspec": {
   "display_name": "Python 3",
   "language": "python",
   "name": "python3"
  },
  "language_info": {
   "codemirror_mode": {
    "name": "ipython",
    "version": 3
   },
   "file_extension": ".py",
   "mimetype": "text/x-python",
   "name": "python",
   "nbconvert_exporter": "python",
   "pygments_lexer": "ipython3",
   "version": "3.10.11"
  },
  "orig_nbformat": 4
 },
 "nbformat": 4,
 "nbformat_minor": 2
}
