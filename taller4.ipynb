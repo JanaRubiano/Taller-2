{
 "cells": [
  {
   "cell_type": "code",
   "execution_count": 11,
   "metadata": {},
   "outputs": [
    {
     "name": "stdout",
     "output_type": "stream",
     "text": [
      "real: 0.9210609940028851 aprox: 0.921060994002885 diff: 1.1102230246251565e-16 error_a: 30 error_b: 2 error_c: 1 error_d: No suficiente para obtener un error de menos del 0.001%\n"
     ]
    }
   ],
   "source": [
    "import math\n",
    "def taller4(x:float, n:int) -> float:\n",
    "    real = math.cos(x)\n",
    "    aprox = 0\n",
    "    error_a = \"No suficiente para obtener un error de menos del 10%\"\n",
    "    error_b = \"No suficiente para obtener un error de menos del 1%\"\n",
    "    error_c = \"No suficiente para obtener un error de menos del 0.1%\"\n",
    "    error_d = \"No suficiente para obtener un error de menos del 0.001%\"\n",
    "    for i in range(n+1):\n",
    "        aprox += ((-1)**i) * (x**(2*i)) / (math.factorial(2*i))\n",
    "        if round(aprox, 5) == round(real, 5):\n",
    "            error_a = i\n",
    "        elif round(aprox, 3) == round(real, 3):\n",
    "            error_b = i\n",
    "        elif round(aprox, 2) == round(real, 2):\n",
    "            error_c = i\n",
    "        elif round(aprox, 1) == round(real, 1):\n",
    "            error_d = i\n",
    "            break\n",
    "\n",
    "        \n",
    "    diff = real - aprox\n",
    "    res = \"real: \" + str(real) + \" aprox: \" + str(aprox) + \" diff: \" + str(diff) + \" error_a: \" + str(error_a) + \" error_b: \" + str(error_b) + \" error_c: \" + str(error_c) + \" error_d: \" + str(error_d) \n",
    "    return res\n",
    "if __name__ == \"__main__\":\n",
    "    x = float(input(\"Enter a real number: \"))\n",
    "    n = int(input(\"Enter an integer: \"))\n",
    "    res = taller4(x, n)\n",
    "    print(res)"
   ]
  }
 ],
 "metadata": {
  "kernelspec": {
   "display_name": "Python 3",
   "language": "python",
   "name": "python3"
  },
  "language_info": {
   "codemirror_mode": {
    "name": "ipython",
    "version": 3
   },
   "file_extension": ".py",
   "mimetype": "text/x-python",
   "name": "python",
   "nbconvert_exporter": "python",
   "pygments_lexer": "ipython3",
   "version": "3.10.2"
  },
  "orig_nbformat": 4,
  "vscode": {
   "interpreter": {
    "hash": "87c27852a1e3f64c799c3b1adfbaff1df846ffc41944f65930f2fda07097269b"
   }
  }
 },
 "nbformat": 4,
 "nbformat_minor": 2
}
