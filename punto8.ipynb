{
 "cells": [
  {
   "cell_type": "code",
   "execution_count": 1,
   "metadata": {},
   "outputs": [
    {
     "name": "stdout",
     "output_type": "stream",
     "text": [
      "['1', 'True']\n"
     ]
    }
   ],
   "source": [
    "'''\n",
    "Desarrollar un programa que dadas dos listas determine que elementos tiene la primer lista que no tenga la segunda lista.\n",
    "[list] --> [list]\n",
    ">>> listComp([1, 'Hola', -12.3 ,True], [11, -12.3, 'Hola', False])\n",
    ">>> [1, True]\n",
    "'''\n",
    "\n",
    "def listComp(lista1:list, lista2:list) -> list:\n",
    "\n",
    "    lista3 = [] # se crea una lista para guardar los elementos que no sean comunes entre las dos listas.\n",
    "    for elmt in lista1: # se itera por la lista1.\n",
    "        if elmt not in lista2: # si el elemento de la lista1 no está en la lista2, se agrega a lista3.\n",
    "            lista3.append(elmt)\n",
    "\n",
    "    return lista3\n",
    "\n",
    "if __name__ == \"__main__\":\n",
    "    lista1 = []\n",
    "    lista2 = []\n",
    "    n = int(input(\"Ingrese el número de elmentos que va a tener cada lista: \"))\n",
    "    for x in range(n):\n",
    "        elmt = input(\"Ingrese un elemento para la lista 1: \")\n",
    "        lista1.append(elmt)\n",
    "    for x in range(n):\n",
    "        elmt = input(\"Ingrese un elemento para la lista 2: \")\n",
    "        lista2.append(elmt)\n",
    "    res = listComp(lista1, lista2)\n",
    "    print(res)"
   ]
  }
 ],
 "metadata": {
  "kernelspec": {
   "display_name": "Python 3",
   "language": "python",
   "name": "python3"
  },
  "language_info": {
   "codemirror_mode": {
    "name": "ipython",
    "version": 3
   },
   "file_extension": ".py",
   "mimetype": "text/x-python",
   "name": "python",
   "nbconvert_exporter": "python",
   "pygments_lexer": "ipython3",
   "version": "3.10.11"
  },
  "orig_nbformat": 4
 },
 "nbformat": 4,
 "nbformat_minor": 2
}
